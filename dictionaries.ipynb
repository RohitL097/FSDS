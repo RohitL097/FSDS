{
 "cells": [
  {
   "cell_type": "code",
   "execution_count": 1,
   "id": "e2d4acc9-34eb-47d5-952d-281b5cd2f058",
   "metadata": {},
   "outputs": [
    {
     "name": "stdout",
     "output_type": "stream",
     "text": [
      "{'name': 'rohit', 'age': 28, 'institute': 'naresh it', 'location': 'hyderabad'}\n",
      "<class 'dict'>\n",
      "4\n"
     ]
    }
   ],
   "source": [
    "#create dictionary\n",
    "\n",
    "mydict = {'name':'rohit','age':28,'institute':'naresh it','location':'hyderabad'}\n",
    "print(mydict)\n",
    "print(type(mydict))\n",
    "print(len(mydict))"
   ]
  },
  {
   "cell_type": "code",
   "execution_count": 2,
   "id": "c510f6dc-3bfc-4178-ba74-2a0e4384c06f",
   "metadata": {},
   "outputs": [
    {
     "data": {
      "text/plain": [
       "{1: 'one', 2: 'two', 3: 'three'}"
      ]
     },
     "execution_count": 2,
     "metadata": {},
     "output_type": "execute_result"
    }
   ],
   "source": [
    "mydict = dict({1:'one' , 2:'two' , 3:'three'}) # Create dictionary using dict()\n",
    "mydict"
   ]
  },
  {
   "cell_type": "code",
   "execution_count": 3,
   "id": "d29d7a0c-76a3-49fa-83f6-cb7e7fa414f6",
   "metadata": {},
   "outputs": [
    {
     "data": {
      "text/plain": [
       "dict_keys([1, 2, 3])"
      ]
     },
     "execution_count": 3,
     "metadata": {},
     "output_type": "execute_result"
    }
   ],
   "source": [
    "mydict.keys() #returns keys using keys method"
   ]
  },
  {
   "cell_type": "code",
   "execution_count": 4,
   "id": "d968d178-69db-4104-abfe-caa9b15db924",
   "metadata": {},
   "outputs": [
    {
     "data": {
      "text/plain": [
       "dict_values(['one', 'two', 'three'])"
      ]
     },
     "execution_count": 4,
     "metadata": {},
     "output_type": "execute_result"
    }
   ],
   "source": [
    "mydict.values() #returns values using value method"
   ]
  },
  {
   "cell_type": "code",
   "execution_count": 5,
   "id": "d038afc4-bdfe-44ba-98c5-b22068aed464",
   "metadata": {},
   "outputs": [
    {
     "data": {
      "text/plain": [
       "dict_items([(1, 'one'), (2, 'two'), (3, 'three')])"
      ]
     },
     "execution_count": 5,
     "metadata": {},
     "output_type": "execute_result"
    }
   ],
   "source": [
    "mydict.items() #return items using items method"
   ]
  },
  {
   "cell_type": "code",
   "execution_count": 6,
   "id": "0bd435c0-d3bc-49f5-b1c3-5dec86935929",
   "metadata": {},
   "outputs": [
    {
     "name": "stdout",
     "output_type": "stream",
     "text": [
      "{'c', 'b', 'a', 'd'}\n"
     ]
    }
   ],
   "source": [
    "keys = {'a','b','c','d'}\n",
    "print(keys)"
   ]
  },
  {
   "cell_type": "code",
   "execution_count": 16,
   "id": "7f4e42a0-6c84-4c1f-af92-03befe285a8f",
   "metadata": {},
   "outputs": [
    {
     "name": "stdout",
     "output_type": "stream",
     "text": [
      "{48: None, 27: None, 36: None, 39: None}\n",
      "<class 'dict'>\n",
      "{'devops with aws': ['naresh i technologies'], 'data analytics': ['naresh i technologies'], 'Full stack data science and ai': ['naresh i technologies'], 'java full stack': ['naresh i technologies']}\n"
     ]
    }
   ],
   "source": [
    "#create a dictionary from sequence of keys\n",
    "\n",
    "keys1 = {27,48,39,36}\n",
    "mydict2 = dict.fromkeys(keys1)\n",
    "print(mydict2)\n",
    "print(type(mydict2))\n",
    "trainingprogram = {'Full stack data science and ai','java full stack','data analytics','devops with aws'}\n",
    "institute = ['naresh i technologies']\n",
    "mydict3 = dict.fromkeys(trainingprogram,institute)\n",
    "print(mydict3)"
   ]
  },
  {
   "cell_type": "code",
   "execution_count": 25,
   "id": "e666d4ec-961d-4970-8e9a-9724f70df942",
   "metadata": {},
   "outputs": [
    {
     "name": "stdout",
     "output_type": "stream",
     "text": [
      "<class 'dict'>\n",
      "zero\n",
      "one\n",
      "five\n"
     ]
    }
   ],
   "source": [
    "#accessing items\n",
    "\n",
    "dict1 = {0:'zero',1:'one',2:'two',3:'three',4:'four',5:'five'}\n",
    "print(type(dict1))\n",
    "print(dict1[0])\n",
    "print(dict1[1])\n",
    "print(dict1[5])"
   ]
  },
  {
   "cell_type": "code",
   "execution_count": 26,
   "id": "46838594-e584-4a96-ab70-f0e1671ae611",
   "metadata": {},
   "outputs": [
    {
     "data": {
      "text/plain": [
       "'two'"
      ]
     },
     "execution_count": 26,
     "metadata": {},
     "output_type": "execute_result"
    }
   ],
   "source": [
    "mydict.get(2) #access element using get method"
   ]
  },
  {
   "cell_type": "code",
   "execution_count": 27,
   "id": "f66b86a9-ea63-4519-8340-1e41b71cf239",
   "metadata": {},
   "outputs": [
    {
     "data": {
      "text/plain": [
       "'three'"
      ]
     },
     "execution_count": 27,
     "metadata": {},
     "output_type": "execute_result"
    }
   ],
   "source": [
    "mydict.get(3)"
   ]
  },
  {
   "cell_type": "code",
   "execution_count": 31,
   "id": "2fc0d165-e5a5-41da-b7fc-c900442f1084",
   "metadata": {},
   "outputs": [
    {
     "data": {
      "text/plain": [
       "'one'"
      ]
     },
     "execution_count": 31,
     "metadata": {},
     "output_type": "execute_result"
    }
   ],
   "source": [
    "mydict.get(1)"
   ]
  },
  {
   "cell_type": "code",
   "execution_count": 32,
   "id": "c0bfa769-91d6-4c64-bb9a-8d7d4c34e6da",
   "metadata": {},
   "outputs": [],
   "source": [
    "mydict.get(-1) #there is -1 in dictionary. whatever number you mention you can access with that number only"
   ]
  },
  {
   "cell_type": "code",
   "execution_count": 35,
   "id": "40891e81-5b45-4c60-b426-257800323e1a",
   "metadata": {},
   "outputs": [
    {
     "data": {
      "text/plain": [
       "{1: 'one', 2: 'two', 3: 'three'}"
      ]
     },
     "execution_count": 35,
     "metadata": {},
     "output_type": "execute_result"
    }
   ],
   "source": [
    "mydict"
   ]
  },
  {
   "cell_type": "code",
   "execution_count": 36,
   "id": "e10fd385-e356-469d-80c6-6cda152d1982",
   "metadata": {},
   "outputs": [
    {
     "data": {
      "text/plain": [
       "'one'"
      ]
     },
     "execution_count": 36,
     "metadata": {},
     "output_type": "execute_result"
    }
   ],
   "source": [
    "mydict.get(1)"
   ]
  },
  {
   "cell_type": "code",
   "execution_count": 37,
   "id": "7b31f0c9-8706-4ca3-b52a-49df9c562457",
   "metadata": {},
   "outputs": [],
   "source": [
    "mydict.get(0)"
   ]
  },
  {
   "cell_type": "code",
   "execution_count": 38,
   "id": "eb70993f-8e1d-4465-9597-874b52621a98",
   "metadata": {},
   "outputs": [
    {
     "data": {
      "text/plain": [
       "'three'"
      ]
     },
     "execution_count": 38,
     "metadata": {},
     "output_type": "execute_result"
    }
   ],
   "source": [
    "mydict.get(3)"
   ]
  },
  {
   "cell_type": "code",
   "execution_count": 46,
   "id": "2d2aa09b-e71c-4f8f-a95c-fbe44fd5a7f4",
   "metadata": {},
   "outputs": [
    {
     "name": "stdout",
     "output_type": "stream",
     "text": [
      "{'Name': 'Rohit', 'Age': 28, 'Place': 'India'}\n",
      "<class 'dict'>\n",
      "28\n",
      "India\n",
      "Rohit\n"
     ]
    }
   ],
   "source": [
    "dict1 = {'Name':'Rohit','Age':28,'Place':'India'}\n",
    "print(dict1)\n",
    "print(type(dict1))\n",
    "print(dict1['Age'])\n",
    "print(dict1['Place'])\n",
    "print(dict1['Name'])"
   ]
  },
  {
   "cell_type": "code",
   "execution_count": 48,
   "id": "8ab42a9e-8287-4c94-8977-8275230673d9",
   "metadata": {},
   "outputs": [],
   "source": [
    "del[dict1['Age']] #delete a section using del method"
   ]
  },
  {
   "cell_type": "code",
   "execution_count": 49,
   "id": "5faea070-776a-45ed-9281-d1b5e512f4ce",
   "metadata": {},
   "outputs": [
    {
     "name": "stdout",
     "output_type": "stream",
     "text": [
      "{'Name': 'Rohit', 'Place': 'India'}\n"
     ]
    }
   ],
   "source": [
    "print(dict1)"
   ]
  },
  {
   "cell_type": "code",
   "execution_count": 50,
   "id": "ac28f4b2-1a4a-476c-ab23-b87d58d1324b",
   "metadata": {},
   "outputs": [],
   "source": [
    "del[dict1['Name']]"
   ]
  },
  {
   "cell_type": "code",
   "execution_count": 52,
   "id": "d04d9acd-678a-4cf5-ad21-8f70d873ff39",
   "metadata": {},
   "outputs": [
    {
     "data": {
      "text/plain": [
       "{'Place': 'India'}"
      ]
     },
     "execution_count": 52,
     "metadata": {},
     "output_type": "execute_result"
    }
   ],
   "source": [
    "dict1 #see since we deleted both age and name as shown above now only place is left out in dict1 dictionary"
   ]
  },
  {
   "cell_type": "code",
   "execution_count": 54,
   "id": "1f03aa5f-ebb5-489a-83af-febaac0a7a92",
   "metadata": {},
   "outputs": [],
   "source": [
    "dict2 = dict1"
   ]
  },
  {
   "cell_type": "code",
   "execution_count": 55,
   "id": "59e9878d-7c37-4ddc-b510-169a3c3aa0c6",
   "metadata": {},
   "outputs": [
    {
     "data": {
      "text/plain": [
       "{'Place': 'India'}"
      ]
     },
     "execution_count": 55,
     "metadata": {},
     "output_type": "execute_result"
    }
   ],
   "source": [
    "dict2"
   ]
  },
  {
   "cell_type": "code",
   "execution_count": 56,
   "id": "cd332b5d-5e53-45ff-b526-c64b30ab3304",
   "metadata": {},
   "outputs": [
    {
     "name": "stdout",
     "output_type": "stream",
     "text": [
      "<class 'dict'>\n"
     ]
    }
   ],
   "source": [
    "dict2 = {'Name':'Rohit'}\n",
    "print(type(dict2))"
   ]
  },
  {
   "cell_type": "code",
   "execution_count": 57,
   "id": "cb8089f5-bb35-4b2e-b25e-3c3fad3cb4b5",
   "metadata": {},
   "outputs": [
    {
     "data": {
      "text/plain": [
       "{'Name': 'Rohit'}"
      ]
     },
     "execution_count": 57,
     "metadata": {},
     "output_type": "execute_result"
    }
   ],
   "source": [
    "dict2"
   ]
  },
  {
   "cell_type": "code",
   "execution_count": 60,
   "id": "8267fd34-cbe1-4830-9c42-bacc0053c425",
   "metadata": {},
   "outputs": [],
   "source": [
    "dict2 ['Job'] = 'Senior data scientist'"
   ]
  },
  {
   "cell_type": "code",
   "execution_count": 61,
   "id": "ec229448-f43d-4ceb-b1fd-42e9eaabbfd1",
   "metadata": {},
   "outputs": [
    {
     "data": {
      "text/plain": [
       "{'Name': 'Rohit', 'Job': 'Senior data scientist'}"
      ]
     },
     "execution_count": 61,
     "metadata": {},
     "output_type": "execute_result"
    }
   ],
   "source": [
    "dict2"
   ]
  },
  {
   "cell_type": "code",
   "execution_count": 62,
   "id": "8489abb8-558e-497e-b9ed-656cc1d93a5d",
   "metadata": {},
   "outputs": [
    {
     "name": "stdout",
     "output_type": "stream",
     "text": [
      "{'Name': 'Rohit', 'Job': 'Senior data scientist', 'Company': 'JP morgan'}\n"
     ]
    }
   ],
   "source": [
    "dict2['Company'] = 'JP morgan'\n",
    "print(dict2)"
   ]
  },
  {
   "cell_type": "code",
   "execution_count": 64,
   "id": "f7183d53-8e2e-407c-86a6-23ef1f3cd637",
   "metadata": {},
   "outputs": [
    {
     "data": {
      "text/plain": [
       "('Company', 'JP morgan')"
      ]
     },
     "execution_count": 64,
     "metadata": {},
     "output_type": "execute_result"
    }
   ],
   "source": [
    "dict2.popitem() #removes the last element in the dictionary"
   ]
  },
  {
   "cell_type": "code",
   "execution_count": 65,
   "id": "5bac0ce5-78b4-44cd-a01c-873b2fecd970",
   "metadata": {},
   "outputs": [
    {
     "data": {
      "text/plain": [
       "{'Name': 'Rohit', 'Job': 'Senior data scientist'}"
      ]
     },
     "execution_count": 65,
     "metadata": {},
     "output_type": "execute_result"
    }
   ],
   "source": [
    "dict2 #now see the result below"
   ]
  },
  {
   "cell_type": "code",
   "execution_count": 66,
   "id": "947f7ce6-3570-40aa-b17a-1f312b668470",
   "metadata": {},
   "outputs": [],
   "source": [
    "dict2.clear() #deleting the dictionary"
   ]
  },
  {
   "cell_type": "code",
   "execution_count": 67,
   "id": "02fc0c5e-d5e7-41ae-81f0-246c700709cd",
   "metadata": {},
   "outputs": [
    {
     "data": {
      "text/plain": [
       "{}"
      ]
     },
     "execution_count": 67,
     "metadata": {},
     "output_type": "execute_result"
    }
   ],
   "source": [
    "dict2"
   ]
  },
  {
   "cell_type": "code",
   "execution_count": 68,
   "id": "2f36099a-87f6-494a-9b98-37cbe824a80a",
   "metadata": {},
   "outputs": [],
   "source": [
    "mydict1 = mydict #copying dictionary"
   ]
  },
  {
   "cell_type": "code",
   "execution_count": 69,
   "id": "d85c78d1-25dd-4eca-82d7-d8fb10618547",
   "metadata": {},
   "outputs": [
    {
     "data": {
      "text/plain": [
       "{1: 'one', 2: 'two', 3: 'three'}"
      ]
     },
     "execution_count": 69,
     "metadata": {},
     "output_type": "execute_result"
    }
   ],
   "source": [
    "mydict1"
   ]
  },
  {
   "cell_type": "code",
   "execution_count": 70,
   "id": "63cafdc9-3255-4c2f-89a4-ab7c5469ab09",
   "metadata": {},
   "outputs": [
    {
     "data": {
      "text/plain": [
       "{1: 'one', 2: 'two', 3: 'three'}"
      ]
     },
     "execution_count": 70,
     "metadata": {},
     "output_type": "execute_result"
    }
   ],
   "source": [
    "mydict #see the result below now. same as dict1. hence it's copied"
   ]
  },
  {
   "cell_type": "code",
   "execution_count": 75,
   "id": "b186ffe1-3bf2-4fb4-b97b-996918e19016",
   "metadata": {},
   "outputs": [
    {
     "name": "stdout",
     "output_type": "stream",
     "text": [
      "name : sachin\n",
      "city : mumbai\n",
      "location : west ghatkopar\n",
      "state : maharashtra\n",
      "age : 29\n"
     ]
    }
   ],
   "source": [
    "#loop through a dictionary\n",
    "\n",
    "mydict = {'name':'sachin','city':'mumbai','location':'west ghatkopar','state':'maharashtra','age':29}\n",
    "for x in mydict:\n",
    "    print(x, ':', mydict[x]) #this will return the entire dictionary in proper view"
   ]
  },
  {
   "cell_type": "code",
   "execution_count": 79,
   "id": "535f0d7d-0388-4f7c-ab10-da168bed14ae",
   "metadata": {},
   "outputs": [
    {
     "name": "stdout",
     "output_type": "stream",
     "text": [
      "sachin\n",
      "mumbai\n",
      "west ghatkopar\n",
      "maharashtra\n",
      "29\n"
     ]
    }
   ],
   "source": [
    "for x in mydict:\n",
    "    print(mydict[x]) #this will return items in the dictionary"
   ]
  },
  {
   "cell_type": "code",
   "execution_count": 81,
   "id": "3857778b-a328-43b1-b5dd-e3204db3b501",
   "metadata": {},
   "outputs": [
    {
     "data": {
      "text/plain": [
       "True"
      ]
     },
     "execution_count": 81,
     "metadata": {},
     "output_type": "execute_result"
    }
   ],
   "source": [
    "'name' in mydict #this will return true because dictionary will return only keys not items"
   ]
  },
  {
   "cell_type": "code",
   "execution_count": 82,
   "id": "dbc367ec-984c-4775-ac11-8b1de1d390e3",
   "metadata": {},
   "outputs": [
    {
     "data": {
      "text/plain": [
       "False"
      ]
     },
     "execution_count": 82,
     "metadata": {},
     "output_type": "execute_result"
    }
   ],
   "source": [
    "'sachin' in mydict #this wont return items as told above"
   ]
  },
  {
   "cell_type": "code",
   "execution_count": 83,
   "id": "2665ad3e-4767-4816-bed4-1a0b7e43f877",
   "metadata": {},
   "outputs": [
    {
     "data": {
      "text/plain": [
       "False"
      ]
     },
     "execution_count": 83,
     "metadata": {},
     "output_type": "execute_result"
    }
   ],
   "source": [
    "'id' in mydict #because there is no id in the dictionary among keys it will return false"
   ]
  },
  {
   "cell_type": "code",
   "execution_count": 84,
   "id": "ba3bf1de-32e9-4ab1-9297-315c16fc11f5",
   "metadata": {},
   "outputs": [
    {
     "data": {
      "text/plain": [
       "True"
      ]
     },
     "execution_count": 84,
     "metadata": {},
     "output_type": "execute_result"
    }
   ],
   "source": [
    "all(mydict) # Will Return false as one value is false (Value 0)"
   ]
  },
  {
   "cell_type": "code",
   "execution_count": 87,
   "id": "7e7744ef-9eb6-4d74-b980-aacc3cdb9bdc",
   "metadata": {},
   "outputs": [
    {
     "data": {
      "text/plain": [
       "2801950958720"
      ]
     },
     "execution_count": 87,
     "metadata": {},
     "output_type": "execute_result"
    }
   ],
   "source": [
    "id(mydict) #checking the id of our dictionary mydict"
   ]
  },
  {
   "cell_type": "code",
   "execution_count": null,
   "id": "e03cd950-2375-4dd1-8eca-72c63c398a3b",
   "metadata": {},
   "outputs": [],
   "source": []
  }
 ],
 "metadata": {
  "kernelspec": {
   "display_name": "Python 3 (ipykernel)",
   "language": "python",
   "name": "python3"
  },
  "language_info": {
   "codemirror_mode": {
    "name": "ipython",
    "version": 3
   },
   "file_extension": ".py",
   "mimetype": "text/x-python",
   "name": "python",
   "nbconvert_exporter": "python",
   "pygments_lexer": "ipython3",
   "version": "3.12.7"
  }
 },
 "nbformat": 4,
 "nbformat_minor": 5
}
