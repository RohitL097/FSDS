{
 "cells": [
  {
   "cell_type": "code",
   "execution_count": 1,
   "id": "03f3f384-8167-42f6-8c2b-fe80a91a0ab1",
   "metadata": {},
   "outputs": [],
   "source": [
    "txt = \"abc edf ghi\""
   ]
  },
  {
   "cell_type": "code",
   "execution_count": 2,
   "id": "19979c7c-239f-4e96-a94a-99f6be1ab377",
   "metadata": {},
   "outputs": [
    {
     "data": {
      "text/plain": [
       "'abc edf ghi'"
      ]
     },
     "execution_count": 2,
     "metadata": {},
     "output_type": "execute_result"
    }
   ],
   "source": [
    "txt"
   ]
  },
  {
   "cell_type": "code",
   "execution_count": 3,
   "id": "0f4383bc-4dc8-4bb7-96b4-687f85884ba8",
   "metadata": {},
   "outputs": [
    {
     "data": {
      "text/plain": [
       "'abc edf ghi'"
      ]
     },
     "execution_count": 3,
     "metadata": {},
     "output_type": "execute_result"
    }
   ],
   "source": [
    "txt.strip()"
   ]
  },
  {
   "cell_type": "code",
   "execution_count": 4,
   "id": "08b7e939-a26d-4ddd-b274-33da7b524955",
   "metadata": {},
   "outputs": [
    {
     "data": {
      "text/plain": [
       "'my favourite tv series is game of thrones'"
      ]
     },
     "execution_count": 4,
     "metadata": {},
     "output_type": "execute_result"
    }
   ],
   "source": [
    "mystr = \"my favourite tv series is game of thrones\"\n",
    "mystr.strip()"
   ]
  },
  {
   "cell_type": "code",
   "execution_count": 6,
   "id": "346faf66-7626-49aa-8730-9c56cd366865",
   "metadata": {},
   "outputs": [
    {
     "data": {
      "text/plain": [
       "'my favourite tv series is game of thrones'"
      ]
     },
     "execution_count": 6,
     "metadata": {},
     "output_type": "execute_result"
    }
   ],
   "source": [
    "mystr"
   ]
  },
  {
   "cell_type": "code",
   "execution_count": 7,
   "id": "4ecec36a-0949-488c-a47b-fbdb13fbf7b9",
   "metadata": {},
   "outputs": [
    {
     "data": {
      "text/plain": [
       "'my favourite tv series is game of thrones'"
      ]
     },
     "execution_count": 7,
     "metadata": {},
     "output_type": "execute_result"
    }
   ],
   "source": [
    "mystr.strip()"
   ]
  },
  {
   "cell_type": "code",
   "execution_count": 17,
   "id": "c4824cf8-15dd-4304-babe-f92b227cf1fd",
   "metadata": {},
   "outputs": [
    {
     "name": "stdout",
     "output_type": "stream",
     "text": [
      "[]\n",
      "[30, 60, 90]\n",
      "[10.6, 77, 999]\n",
      "['one', 'two', 'three']\n",
      "[100, 'rohit', 6.7]\n",
      "[[100, 'rohit', 55.6], ['asif', 99.0, 88], [-1, 5.6, 'prakash']]\n",
      "[]\n",
      "[30, 60, 90]\n",
      "[10.6, 77, 999]\n",
      "['one', 'two', 'three']\n",
      "[100, 'rohit', 6.7]\n",
      "[[100, 'rohit', 55.6], ['asif', 99.0, 88], [-1, 5.6, 'prakash']]\n",
      "90\n",
      "77\n",
      "three\n",
      "rohit\n",
      "[-1, 5.6, 'prakash']\n"
     ]
    }
   ],
   "source": [
    "#list creation\n",
    "\n",
    "list1 = [] #empty list\n",
    "print(list1)\n",
    "list2 = [30,60,90]\n",
    "list3 = [10.60,77,999]\n",
    "print(list2)\n",
    "print(list3)\n",
    "list4 = ['one','two','three']\n",
    "print(list4)\n",
    "list5 = [100,'rohit',6.7]\n",
    "print(list5)\n",
    "list6 = [[100,'rohit',55.6],['asif',99.0,88],[-1,5.6,'prakash']]\n",
    "print(list6)\n",
    "print(list1)\n",
    "print(list2)\n",
    "print(list3)\n",
    "print(list4)\n",
    "print(list5)\n",
    "print(list6)\n",
    "print(list2[2])\n",
    "print(list3[1])\n",
    "print(list4[2])\n",
    "print(list5[1])\n",
    "print(list6[-1])"
   ]
  },
  {
   "cell_type": "code",
   "execution_count": 27,
   "id": "3fbe0cd6-ca6c-435f-8504-3aeef317de8e",
   "metadata": {},
   "outputs": [
    {
     "name": "stdout",
     "output_type": "stream",
     "text": [
      "['papaya', 'mango', 'apple', 'kiwi', 'orange', 'grapes', 'jack', 'banana', 'pineapple', 'sapota']\n",
      "['papaya', 'mango', 'apple']\n",
      "['papaya', 'mango', 'apple']\n",
      "['apple', 'kiwi', 'orange']\n",
      "['kiwi', 'orange', 'grapes', 'jack']\n",
      "['papaya', 'mango', 'apple', 'kiwi', 'orange']\n",
      "['papaya', 'mango', 'apple', 'kiwi', 'orange', 'grapes', 'jack']\n",
      "['jack', 'banana', 'pineapple', 'sapota']\n",
      "['papaya', 'mango', 'apple', 'kiwi', 'orange', 'grapes']\n",
      "['papaya', 'mango', 'apple', 'kiwi', 'orange', 'grapes', 'jack']\n",
      "['papaya', 'mango', 'apple', 'kiwi', 'orange', 'grapes', 'jack', 'banana']\n",
      "sapota\n",
      "['papaya', 'mango', 'apple', 'kiwi', 'orange', 'grapes', 'jack', 'banana', 'pineapple', 'sapota']\n"
     ]
    }
   ],
   "source": [
    "mylist = ['papaya','mango','apple','kiwi','orange','grapes','jack','banana','pineapple','sapota']\n",
    "print(mylist)\n",
    "print(mylist[0:3]) #return first three elements in the list\n",
    "print(mylist[:3]) #return first three elements in the list\n",
    "print(mylist[2:5]) #returns elements from 3rd to 5th in the list\n",
    "print(mylist[3:7]) #returns elements from 4th to 7th in the list\n",
    "print(mylist[:5]) #return first five elements in the list\n",
    "print(mylist[:7]) #return first seven elements in the list\n",
    "print(mylist[-4:]) #returns the last 4th to last element\n",
    "print(mylist[:-4]) #returns everything except last 4 elements in the list\n",
    "print(mylist[:-3]) #returns everything except last 3 elements in the list\n",
    "print(mylist[:-2]) #returns everything except last 2 elements in the list\n",
    "print(mylist[-1]) #returns the last element in the list\n",
    "print(mylist[:]) #returns the whole list"
   ]
  },
  {
   "cell_type": "code",
   "execution_count": 33,
   "id": "b6cea9ae-c4a1-42f6-9843-97ebd4a97967",
   "metadata": {},
   "outputs": [
    {
     "name": "stdout",
     "output_type": "stream",
     "text": [
      "['papaya', 'mango', 'apple', 'kiwi', 'orange', 'grapes', 'jack', 'banana', 'pineapple', 'sapota']\n",
      "['papaya', 'mango', 'apple', 'kiwi', 'orange', 'grapes', 'jack', 'banana', 'pineapple', 'sapota', 'pomegranete']\n",
      "['papaya', 'mango', 'apple', 'kiwi', 'orange', 'grapes', 'jack', 'banana', 'pineapple', 'sapota']\n",
      "['papaya', 'mango', 'apple', 'kiwi', 'orange', 'grapes', 'jack', 'banana', 'sapota']\n"
     ]
    }
   ],
   "source": [
    "#Add , Remove & Change Items\n",
    "\n",
    "mylist = ['papaya','mango','apple','kiwi','orange','grapes','jack','banana','pineapple','sapota']\n",
    "print(mylist)\n",
    "mylist.append('pomegranete') #add one more item to the list\n",
    "print(mylist)\n",
    "mylist.pop() #remove last element of the list\n",
    "print(mylist) #see pomegranete which we added is removed\n",
    "mylist.pop(8) #remove 8th element of the list\n",
    "print(mylist)"
   ]
  },
  {
   "cell_type": "code",
   "execution_count": 34,
   "id": "5e85dd10-40a5-4a92-aaf0-791cd52d3a70",
   "metadata": {},
   "outputs": [
    {
     "data": {
      "text/plain": [
       "'papaya'"
      ]
     },
     "execution_count": 34,
     "metadata": {},
     "output_type": "execute_result"
    }
   ],
   "source": [
    "mylist[0]"
   ]
  },
  {
   "cell_type": "code",
   "execution_count": 36,
   "id": "597d45bf-5b74-4afc-aaa0-c56b84d52798",
   "metadata": {},
   "outputs": [],
   "source": [
    "mylist.clear()"
   ]
  },
  {
   "cell_type": "code",
   "execution_count": 37,
   "id": "4ea4053c-edce-4285-8bb4-650f594a183f",
   "metadata": {},
   "outputs": [
    {
     "data": {
      "text/plain": [
       "[]"
      ]
     },
     "execution_count": 37,
     "metadata": {},
     "output_type": "execute_result"
    }
   ],
   "source": [
    "mylist"
   ]
  },
  {
   "cell_type": "code",
   "execution_count": 38,
   "id": "86c8dc7d-72db-466f-9aed-98d416257c2a",
   "metadata": {},
   "outputs": [],
   "source": [
    "#list is now cleared. its an empty list. "
   ]
  },
  {
   "cell_type": "code",
   "execution_count": 43,
   "id": "42514581-0950-420c-a7dc-332af7982c12",
   "metadata": {},
   "outputs": [
    {
     "name": "stdout",
     "output_type": "stream",
     "text": [
      "['papaya', 'mango', 'apple', 'kiwi', 'orange', 'grapes', 'jack', 'banana', 'pineapple', 'sapota']\n",
      "2594858005120\n"
     ]
    }
   ],
   "source": [
    "#copy list\n",
    "\n",
    "mylist = ['papaya','mango','apple','kiwi','orange','grapes','jack','banana','pineapple','sapota']\n",
    "mylist2 = mylist.copy() #this is how we copy lists\n",
    "print(mylist2)\n",
    "print(id(mylist2)) "
   ]
  },
  {
   "cell_type": "code",
   "execution_count": 44,
   "id": "2a53796a-aa28-46a3-bdef-0aaedb0946a4",
   "metadata": {},
   "outputs": [],
   "source": [
    "#output is now ready as seen above"
   ]
  },
  {
   "cell_type": "code",
   "execution_count": 49,
   "id": "29f2729f-8734-42a7-b482-17884b5815f5",
   "metadata": {},
   "outputs": [
    {
     "name": "stdout",
     "output_type": "stream",
     "text": [
      "['one', 'two', 'three', 'four', 'five', 'six', 'seven', 'eight', 'nine', 'ten']\n",
      "['six', 'seven', 'eight', 'nine', 'ten']\n",
      "['one', 'two', 'three', 'four', 'five']\n"
     ]
    }
   ],
   "source": [
    "#join lists\n",
    "\n",
    "list1 = ['one','two','three','four','five']\n",
    "list2 = ['six','seven','eight','nine','ten']\n",
    "list3 = list1 + list2\n",
    "print(list3)\n",
    "print(list2)\n",
    "print(list1)"
   ]
  },
  {
   "cell_type": "code",
   "execution_count": 50,
   "id": "53332787-2474-447c-817d-2e01e257188c",
   "metadata": {},
   "outputs": [
    {
     "data": {
      "text/plain": [
       "False"
      ]
     },
     "execution_count": 50,
     "metadata": {},
     "output_type": "execute_result"
    }
   ],
   "source": [
    "'ten' in list1"
   ]
  },
  {
   "cell_type": "code",
   "execution_count": 51,
   "id": "6ec7bb90-bf4e-41d5-b725-1f4f1ba9de2d",
   "metadata": {},
   "outputs": [
    {
     "data": {
      "text/plain": [
       "True"
      ]
     },
     "execution_count": 51,
     "metadata": {},
     "output_type": "execute_result"
    }
   ],
   "source": [
    "'ten' in list3"
   ]
  },
  {
   "cell_type": "code",
   "execution_count": 52,
   "id": "c66244f7-f18b-4253-b31c-a506e1eb6397",
   "metadata": {},
   "outputs": [
    {
     "data": {
      "text/plain": [
       "True"
      ]
     },
     "execution_count": 52,
     "metadata": {},
     "output_type": "execute_result"
    }
   ],
   "source": [
    "'ten' in list2"
   ]
  },
  {
   "cell_type": "code",
   "execution_count": 53,
   "id": "cda86327-a838-4105-bffb-d88f04c012fb",
   "metadata": {},
   "outputs": [
    {
     "name": "stdout",
     "output_type": "stream",
     "text": [
      "yes three is there in list1\n"
     ]
    }
   ],
   "source": [
    "if 'three' in list1:\n",
    "    print('yes three is there in list1')\n",
    "else:\n",
    "    print('no three is not there in list1')"
   ]
  },
  {
   "cell_type": "code",
   "execution_count": 55,
   "id": "854bccab-56ef-4965-a203-bbacc349b3fa",
   "metadata": {},
   "outputs": [
    {
     "name": "stdout",
     "output_type": "stream",
     "text": [
      "yes ten is there in list1\n"
     ]
    }
   ],
   "source": [
    "if 'ten' in list2:\n",
    "    print('yes ten is there in list1')\n",
    "\n",
    "else:\n",
    "    print('no ten is not there in list2')"
   ]
  },
  {
   "cell_type": "code",
   "execution_count": 56,
   "id": "1a40791e-84af-400a-85bd-8cf038e9ab18",
   "metadata": {},
   "outputs": [
    {
     "name": "stdout",
     "output_type": "stream",
     "text": [
      "yes four is there in list3\n"
     ]
    }
   ],
   "source": [
    "if 'four' in list3:\n",
    "    print('yes four is there in list3')\n",
    "\n",
    "else:\n",
    "    print('no four is not there in list3')"
   ]
  },
  {
   "cell_type": "code",
   "execution_count": 57,
   "id": "78b563c7-8535-4a9a-8a09-2eaf2b56cc69",
   "metadata": {},
   "outputs": [
    {
     "name": "stdout",
     "output_type": "stream",
     "text": [
      "no eleven is not there in list3\n"
     ]
    }
   ],
   "source": [
    "if 'eleven' in list3:\n",
    "    print('yes eleven is there in list3')\n",
    "\n",
    "else:\n",
    "    print('no eleven is not there in list3')"
   ]
  },
  {
   "cell_type": "code",
   "execution_count": 62,
   "id": "69962f37-690f-45c4-b0cc-a1f53f9f7e58",
   "metadata": {},
   "outputs": [
    {
     "name": "stdout",
     "output_type": "stream",
     "text": [
      "['five', 'four', 'three', 'two', 'one']\n",
      "['six', 'seven', 'eight', 'nine', 'ten']\n",
      "['one', 'two', 'three', 'four', 'five', 'six', 'seven', 'eight', 'nine', 'ten']\n",
      "['one', 'two', 'three', 'four', 'five']\n",
      "[4, 99, 23, 6, 87, 147]\n",
      "[147, 87, 6, 23, 99, 4]\n",
      "[4, 6, 23, 87, 99, 147]\n"
     ]
    }
   ],
   "source": [
    "#reverse and sort list\n",
    "\n",
    "list1.reverse()\n",
    "print(list1)\n",
    "list2.reverse()\n",
    "list3.reverse()\n",
    "print(list2)\n",
    "print(list3)\n",
    "list1 = list1[::-1] #this is one method of sorting\n",
    "print(list1)\n",
    "mylist3 = [4,99,23,6,87,147]\n",
    "print(mylist3)\n",
    "mylist3.reverse()\n",
    "print(mylist3)\n",
    "mylist3.sort()\n",
    "print(mylist3)"
   ]
  },
  {
   "cell_type": "code",
   "execution_count": 63,
   "id": "95698961-5773-44d9-a95d-082b6e0d446f",
   "metadata": {},
   "outputs": [
    {
     "name": "stdout",
     "output_type": "stream",
     "text": [
      "one\n",
      "two\n",
      "three\n",
      "four\n",
      "five\n"
     ]
    }
   ],
   "source": [
    "#loop through a list\n",
    "\n",
    "for (i) in list1:\n",
    "    print(i)"
   ]
  },
  {
   "cell_type": "code",
   "execution_count": 65,
   "id": "c543c64c-a4d3-4e5c-8193-1dc3bcb829d9",
   "metadata": {},
   "outputs": [
    {
     "name": "stdout",
     "output_type": "stream",
     "text": [
      "(0, 'one')\n",
      "(1, 'two')\n",
      "(2, 'three')\n",
      "(3, 'four')\n",
      "(4, 'five')\n"
     ]
    }
   ],
   "source": [
    "for (i) in enumerate(list1):\n",
    "    print(i)"
   ]
  },
  {
   "cell_type": "code",
   "execution_count": 67,
   "id": "16ccd882-586d-4b1f-ba7d-8cade151b9d2",
   "metadata": {},
   "outputs": [
    {
     "data": {
      "text/plain": [
       "1"
      ]
     },
     "execution_count": 67,
     "metadata": {},
     "output_type": "execute_result"
    }
   ],
   "source": [
    "list1.count('one')"
   ]
  },
  {
   "cell_type": "code",
   "execution_count": 68,
   "id": "2eeb46cb-fe2f-4ad5-a3b6-8c07e7db52ac",
   "metadata": {},
   "outputs": [
    {
     "data": {
      "text/plain": [
       "1"
      ]
     },
     "execution_count": 68,
     "metadata": {},
     "output_type": "execute_result"
    }
   ],
   "source": [
    "list1.count('two')"
   ]
  },
  {
   "cell_type": "code",
   "execution_count": 69,
   "id": "3de85930-c67c-4000-8612-316e0ac2bfb9",
   "metadata": {},
   "outputs": [
    {
     "data": {
      "text/plain": [
       "1"
      ]
     },
     "execution_count": 69,
     "metadata": {},
     "output_type": "execute_result"
    }
   ],
   "source": [
    "list1.count('three')"
   ]
  },
  {
   "cell_type": "code",
   "execution_count": 70,
   "id": "9a15fc14-6030-496c-8e81-1f53c8cb2465",
   "metadata": {},
   "outputs": [
    {
     "data": {
      "text/plain": [
       "1"
      ]
     },
     "execution_count": 70,
     "metadata": {},
     "output_type": "execute_result"
    }
   ],
   "source": [
    "list1.count('four')"
   ]
  },
  {
   "cell_type": "code",
   "execution_count": 71,
   "id": "28632172-1893-4f65-acc0-1f15b96dd96d",
   "metadata": {},
   "outputs": [
    {
     "data": {
      "text/plain": [
       "0"
      ]
     },
     "execution_count": 71,
     "metadata": {},
     "output_type": "execute_result"
    }
   ],
   "source": [
    "list1.count('ten')"
   ]
  },
  {
   "cell_type": "code",
   "execution_count": 72,
   "id": "145ed803-12b5-4048-a6c2-4652b3f6f272",
   "metadata": {},
   "outputs": [
    {
     "data": {
      "text/plain": [
       "0"
      ]
     },
     "execution_count": 72,
     "metadata": {},
     "output_type": "execute_result"
    }
   ],
   "source": [
    "list1.count('nine hundred')"
   ]
  },
  {
   "cell_type": "code",
   "execution_count": 73,
   "id": "c2bdf658-19bf-4456-9e04-b77560089197",
   "metadata": {},
   "outputs": [
    {
     "data": {
      "text/plain": [
       "1"
      ]
     },
     "execution_count": 73,
     "metadata": {},
     "output_type": "execute_result"
    }
   ],
   "source": [
    "list1.count('five')"
   ]
  },
  {
   "cell_type": "code",
   "execution_count": 78,
   "id": "8fc94974-9278-4242-8b00-66542e7a2df7",
   "metadata": {},
   "outputs": [
    {
     "name": "stdout",
     "output_type": "stream",
     "text": [
      "True\n",
      "True\n",
      "True\n",
      "True\n",
      "False\n"
     ]
    }
   ],
   "source": [
    "#all any\n",
    "print(all(list1))\n",
    "print(all(list2))\n",
    "print(all(list3))\n",
    "l2 = [True]\n",
    "print(all(l2))\n",
    "l3 = [False]\n",
    "print(all(l3))"
   ]
  },
  {
   "cell_type": "code",
   "execution_count": null,
   "id": "215e1987-a061-4915-b116-a285956c1ff7",
   "metadata": {},
   "outputs": [],
   "source": []
  }
 ],
 "metadata": {
  "kernelspec": {
   "display_name": "Python 3 (ipykernel)",
   "language": "python",
   "name": "python3"
  },
  "language_info": {
   "codemirror_mode": {
    "name": "ipython",
    "version": 3
   },
   "file_extension": ".py",
   "mimetype": "text/x-python",
   "name": "python",
   "nbconvert_exporter": "python",
   "pygments_lexer": "ipython3",
   "version": "3.12.7"
  }
 },
 "nbformat": 4,
 "nbformat_minor": 5
}
