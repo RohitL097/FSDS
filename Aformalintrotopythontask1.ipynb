{
 "cells": [
  {
   "cell_type": "code",
   "execution_count": 1,
   "id": "a1274303-4746-4c05-ac25-a68f2076b321",
   "metadata": {},
   "outputs": [
    {
     "data": {
      "text/plain": [
       "4"
      ]
     },
     "execution_count": 1,
     "metadata": {},
     "output_type": "execute_result"
    }
   ],
   "source": [
    "2+2"
   ]
  },
  {
   "cell_type": "code",
   "execution_count": 2,
   "id": "ae0c7ec7-7652-477c-8688-c8da025d351b",
   "metadata": {},
   "outputs": [
    {
     "data": {
      "text/plain": [
       "20"
      ]
     },
     "execution_count": 2,
     "metadata": {},
     "output_type": "execute_result"
    }
   ],
   "source": [
    "50 - 5*6"
   ]
  },
  {
   "cell_type": "code",
   "execution_count": 3,
   "id": "f0690acd-563d-498f-9fa6-db906bf8e838",
   "metadata": {},
   "outputs": [
    {
     "data": {
      "text/plain": [
       "1.6"
      ]
     },
     "execution_count": 3,
     "metadata": {},
     "output_type": "execute_result"
    }
   ],
   "source": [
    "8/5"
   ]
  },
  {
   "cell_type": "code",
   "execution_count": 4,
   "id": "09931e49-bb67-4474-9318-b4509793b130",
   "metadata": {},
   "outputs": [
    {
     "data": {
      "text/plain": [
       "5.666666666666667"
      ]
     },
     "execution_count": 4,
     "metadata": {},
     "output_type": "execute_result"
    }
   ],
   "source": [
    "17/3"
   ]
  },
  {
   "cell_type": "code",
   "execution_count": 5,
   "id": "f5b36289-ebd6-4d23-8662-0008d96643cd",
   "metadata": {},
   "outputs": [
    {
     "data": {
      "text/plain": [
       "25"
      ]
     },
     "execution_count": 5,
     "metadata": {},
     "output_type": "execute_result"
    }
   ],
   "source": [
    "5**2"
   ]
  },
  {
   "cell_type": "code",
   "execution_count": 6,
   "id": "a0d97877-866d-40f3-8d86-43da9d1033fc",
   "metadata": {},
   "outputs": [
    {
     "data": {
      "text/plain": [
       "128"
      ]
     },
     "execution_count": 6,
     "metadata": {},
     "output_type": "execute_result"
    }
   ],
   "source": [
    "2**7"
   ]
  },
  {
   "cell_type": "code",
   "execution_count": 7,
   "id": "a82abbe8-e948-4319-be4b-fff6159376d6",
   "metadata": {},
   "outputs": [
    {
     "data": {
      "text/plain": [
       "16"
      ]
     },
     "execution_count": 7,
     "metadata": {},
     "output_type": "execute_result"
    }
   ],
   "source": [
    "2*8"
   ]
  },
  {
   "cell_type": "code",
   "execution_count": 8,
   "id": "a40d9828-0531-404a-9f30-8723c1218afc",
   "metadata": {},
   "outputs": [
    {
     "data": {
      "text/plain": [
       "14"
      ]
     },
     "execution_count": 8,
     "metadata": {},
     "output_type": "execute_result"
    }
   ],
   "source": [
    "2*7"
   ]
  },
  {
   "cell_type": "code",
   "execution_count": 9,
   "id": "24cfa43e-921a-4768-8a07-5a7f41015a95",
   "metadata": {},
   "outputs": [
    {
     "data": {
      "text/plain": [
       "10.984375"
      ]
     },
     "execution_count": 9,
     "metadata": {},
     "output_type": "execute_result"
    }
   ],
   "source": [
    "5+6-4/2**8"
   ]
  },
  {
   "cell_type": "code",
   "execution_count": 10,
   "id": "ce67e706-f4cb-439d-9c4d-d28a4862f30b",
   "metadata": {},
   "outputs": [
    {
     "data": {
      "text/plain": [
       "'spam eggs'"
      ]
     },
     "execution_count": 10,
     "metadata": {},
     "output_type": "execute_result"
    }
   ],
   "source": [
    "'spam eggs'"
   ]
  },
  {
   "cell_type": "code",
   "execution_count": 11,
   "id": "b5e28693-c029-48d5-9e81-e4a71ba448ce",
   "metadata": {},
   "outputs": [
    {
     "data": {
      "text/plain": [
       "'paris rabit got your back'"
      ]
     },
     "execution_count": 11,
     "metadata": {},
     "output_type": "execute_result"
    }
   ],
   "source": [
    "'paris rabit got your back'"
   ]
  },
  {
   "cell_type": "code",
   "execution_count": 12,
   "id": "fdf30a58-37d3-4168-b107-21f5edcc0f6e",
   "metadata": {},
   "outputs": [
    {
     "data": {
      "text/plain": [
       "'isn/t it they said'"
      ]
     },
     "execution_count": 12,
     "metadata": {},
     "output_type": "execute_result"
    }
   ],
   "source": [
    "'isn/t it they said'"
   ]
  },
  {
   "cell_type": "code",
   "execution_count": 13,
   "id": "cf93b9d1-5061-4cc9-87b9-dd2e0c51f613",
   "metadata": {},
   "outputs": [],
   "source": [
    "s = 'firstline\\n.secondline'"
   ]
  },
  {
   "cell_type": "code",
   "execution_count": 14,
   "id": "b5e5ad90-a718-4151-9def-8ed0ac38e355",
   "metadata": {},
   "outputs": [
    {
     "data": {
      "text/plain": [
       "'firstline\\n.secondline'"
      ]
     },
     "execution_count": 14,
     "metadata": {},
     "output_type": "execute_result"
    }
   ],
   "source": [
    "s"
   ]
  },
  {
   "cell_type": "code",
   "execution_count": 15,
   "id": "a341a8e5-44df-48ae-a313-e28b2f4dc2a8",
   "metadata": {},
   "outputs": [
    {
     "data": {
      "text/plain": [
       "'urururanium'"
      ]
     },
     "execution_count": 15,
     "metadata": {},
     "output_type": "execute_result"
    }
   ],
   "source": [
    "3 * 'ur'+'anium'"
   ]
  },
  {
   "cell_type": "code",
   "execution_count": 16,
   "id": "e3025646-295f-47b9-a7ba-6b9f624b2f66",
   "metadata": {},
   "outputs": [
    {
     "data": {
      "text/plain": [
       "'python'"
      ]
     },
     "execution_count": 16,
     "metadata": {},
     "output_type": "execute_result"
    }
   ],
   "source": [
    "'py' + 'thon'"
   ]
  },
  {
   "cell_type": "code",
   "execution_count": 17,
   "id": "c017588d-c42c-44c9-807d-ca4c6b36e690",
   "metadata": {},
   "outputs": [
    {
     "data": {
      "text/plain": [
       "'java'"
      ]
     },
     "execution_count": 17,
     "metadata": {},
     "output_type": "execute_result"
    }
   ],
   "source": [
    "'ja' + 'va'"
   ]
  },
  {
   "cell_type": "code",
   "execution_count": 18,
   "id": "1c5fdefd-3434-4179-a16d-42a756e12660",
   "metadata": {},
   "outputs": [],
   "source": [
    "text = 'hello this is my first python program. i like writing code'"
   ]
  },
  {
   "cell_type": "code",
   "execution_count": 19,
   "id": "188c599c-7eff-4668-a1c2-27924dddf079",
   "metadata": {},
   "outputs": [
    {
     "data": {
      "text/plain": [
       "'hello this is my first python program. i like writing code'"
      ]
     },
     "execution_count": 19,
     "metadata": {},
     "output_type": "execute_result"
    }
   ],
   "source": [
    "text"
   ]
  },
  {
   "cell_type": "code",
   "execution_count": 21,
   "id": "20057538-bbd9-4f70-adfb-f7672e2c6348",
   "metadata": {},
   "outputs": [
    {
     "data": {
      "text/plain": [
       "'hello this is my first python program. i like writing codehello this is my first python program. i like writing codehello this is my first python program. i like writing code'"
      ]
     },
     "execution_count": 21,
     "metadata": {},
     "output_type": "execute_result"
    }
   ],
   "source": [
    "text*3"
   ]
  },
  {
   "cell_type": "code",
   "execution_count": 23,
   "id": "5a4338cc-1122-4b22-a9b6-d74f3dd639b4",
   "metadata": {},
   "outputs": [
    {
     "data": {
      "text/plain": [
       "'hello this is my first python program. i like writing codehello this is my first python program. i like writing codehello this is my first python program. i like writing codehello this is my first python program. i like writing code'"
      ]
     },
     "execution_count": 23,
     "metadata": {},
     "output_type": "execute_result"
    }
   ],
   "source": [
    "text*4"
   ]
  },
  {
   "cell_type": "code",
   "execution_count": 24,
   "id": "1822408f-bf1e-4cb0-9a89-b9e498402008",
   "metadata": {},
   "outputs": [],
   "source": [
    "word = 'python'"
   ]
  },
  {
   "cell_type": "code",
   "execution_count": 25,
   "id": "6b9b2f8d-87f3-448d-a1a5-718b60a276a3",
   "metadata": {},
   "outputs": [
    {
     "data": {
      "text/plain": [
       "'p'"
      ]
     },
     "execution_count": 25,
     "metadata": {},
     "output_type": "execute_result"
    }
   ],
   "source": [
    "word[0]"
   ]
  },
  {
   "cell_type": "code",
   "execution_count": 26,
   "id": "d5a372af-cfbb-4463-acbd-c803f20b9dea",
   "metadata": {},
   "outputs": [
    {
     "data": {
      "text/plain": [
       "'y'"
      ]
     },
     "execution_count": 26,
     "metadata": {},
     "output_type": "execute_result"
    }
   ],
   "source": [
    "word[1]"
   ]
  },
  {
   "cell_type": "code",
   "execution_count": 27,
   "id": "0dcabb77-6943-4920-b903-7d8edd3041d2",
   "metadata": {},
   "outputs": [
    {
     "data": {
      "text/plain": [
       "'n'"
      ]
     },
     "execution_count": 27,
     "metadata": {},
     "output_type": "execute_result"
    }
   ],
   "source": [
    "word[-1]"
   ]
  },
  {
   "cell_type": "code",
   "execution_count": 28,
   "id": "8c027d0a-eb5d-4cbe-8525-e949337e0c66",
   "metadata": {},
   "outputs": [
    {
     "data": {
      "text/plain": [
       "'py'"
      ]
     },
     "execution_count": 28,
     "metadata": {},
     "output_type": "execute_result"
    }
   ],
   "source": [
    "word[:2]"
   ]
  },
  {
   "cell_type": "code",
   "execution_count": 29,
   "id": "c34c5a26-a7b6-4746-ac8d-b77d23df1bf0",
   "metadata": {},
   "outputs": [
    {
     "data": {
      "text/plain": [
       "'pyt'"
      ]
     },
     "execution_count": 29,
     "metadata": {},
     "output_type": "execute_result"
    }
   ],
   "source": [
    "word[:3]"
   ]
  },
  {
   "cell_type": "code",
   "execution_count": 30,
   "id": "e761ff41-a496-4bc8-9cb4-9721add331dd",
   "metadata": {},
   "outputs": [
    {
     "data": {
      "text/plain": [
       "'pyth'"
      ]
     },
     "execution_count": 30,
     "metadata": {},
     "output_type": "execute_result"
    }
   ],
   "source": [
    "word[:4]"
   ]
  },
  {
   "cell_type": "code",
   "execution_count": 32,
   "id": "b63e4d9c-0aef-4c96-b698-47634a345ce8",
   "metadata": {},
   "outputs": [
    {
     "data": {
      "text/plain": [
       "'pythpy'"
      ]
     },
     "execution_count": 32,
     "metadata": {},
     "output_type": "execute_result"
    }
   ],
   "source": [
    "word[:4] + word[:2]"
   ]
  },
  {
   "cell_type": "code",
   "execution_count": 33,
   "id": "a1cefa80-4730-4333-bc5b-ccda33fc2e9d",
   "metadata": {},
   "outputs": [
    {
     "data": {
      "text/plain": [
       "'pytpy'"
      ]
     },
     "execution_count": 33,
     "metadata": {},
     "output_type": "execute_result"
    }
   ],
   "source": [
    "word[:3] + word[:2]"
   ]
  },
  {
   "cell_type": "code",
   "execution_count": 34,
   "id": "04d8c6e5-27f2-436e-9bf2-869df9635934",
   "metadata": {},
   "outputs": [
    {
     "data": {
      "text/plain": [
       "'kt'"
      ]
     },
     "execution_count": 34,
     "metadata": {},
     "output_type": "execute_result"
    }
   ],
   "source": [
    "'k' + word[2]"
   ]
  },
  {
   "cell_type": "code",
   "execution_count": 35,
   "id": "79705ba1-f6b3-47e3-b4ed-596f5d090c85",
   "metadata": {},
   "outputs": [
    {
     "data": {
      "text/plain": [
       "'lh'"
      ]
     },
     "execution_count": 35,
     "metadata": {},
     "output_type": "execute_result"
    }
   ],
   "source": [
    "'l' + word[3]"
   ]
  },
  {
   "cell_type": "code",
   "execution_count": 36,
   "id": "50bd7a92-1ff6-456a-8eaf-2c522f059f68",
   "metadata": {},
   "outputs": [
    {
     "data": {
      "text/plain": [
       "'lpytho'"
      ]
     },
     "execution_count": 36,
     "metadata": {},
     "output_type": "execute_result"
    }
   ],
   "source": [
    "'l' + word[:5]"
   ]
  },
  {
   "cell_type": "code",
   "execution_count": 37,
   "id": "7d69027b-77f9-48b2-bbd8-8f5247a1d2a3",
   "metadata": {},
   "outputs": [
    {
     "data": {
      "text/plain": [
       "'pythl'"
      ]
     },
     "execution_count": 37,
     "metadata": {},
     "output_type": "execute_result"
    }
   ],
   "source": [
    "word[:4] + 'l'"
   ]
  },
  {
   "cell_type": "code",
   "execution_count": 38,
   "id": "671976e9-4a97-4394-ae0c-45cbc74b5c94",
   "metadata": {},
   "outputs": [
    {
     "data": {
      "text/plain": [
       "'pyth'"
      ]
     },
     "execution_count": 38,
     "metadata": {},
     "output_type": "execute_result"
    }
   ],
   "source": [
    "word[:4] + word[:0]"
   ]
  },
  {
   "cell_type": "code",
   "execution_count": 39,
   "id": "55753758-bf9f-43f9-b7d5-72c9e6351ad6",
   "metadata": {},
   "outputs": [
    {
     "data": {
      "text/plain": [
       "20"
      ]
     },
     "execution_count": 39,
     "metadata": {},
     "output_type": "execute_result"
    }
   ],
   "source": [
    "s = 'supercaligraphartist'\n",
    "len(s)"
   ]
  },
  {
   "cell_type": "code",
   "execution_count": 40,
   "id": "8dd6f76f-45b8-4fb8-bf2c-59db7b653e82",
   "metadata": {},
   "outputs": [
    {
     "data": {
      "text/plain": [
       "str"
      ]
     },
     "execution_count": 40,
     "metadata": {},
     "output_type": "execute_result"
    }
   ],
   "source": [
    "type(s)"
   ]
  },
  {
   "cell_type": "code",
   "execution_count": 41,
   "id": "30ebb151-452f-4a57-b6fb-10f1524aae62",
   "metadata": {},
   "outputs": [],
   "source": [
    "cubes = [3,6,8,9,10,12]"
   ]
  },
  {
   "cell_type": "code",
   "execution_count": 42,
   "id": "66e4aa3b-841a-47a9-84b9-dd2cdf24e234",
   "metadata": {},
   "outputs": [
    {
     "data": {
      "text/plain": [
       "[3, 6, 8, 9, 10, 12, 3, 6, 8, 9, 10, 12, 3, 6, 8, 9, 10, 12]"
      ]
     },
     "execution_count": 42,
     "metadata": {},
     "output_type": "execute_result"
    }
   ],
   "source": [
    "cubes*3"
   ]
  },
  {
   "cell_type": "code",
   "execution_count": 43,
   "id": "98b9b30c-099b-4287-bd5c-ee52b470ac81",
   "metadata": {},
   "outputs": [
    {
     "data": {
      "text/plain": [
       "9"
      ]
     },
     "execution_count": 43,
     "metadata": {},
     "output_type": "execute_result"
    }
   ],
   "source": [
    "cubes[3]"
   ]
  },
  {
   "cell_type": "code",
   "execution_count": 44,
   "id": "db3af25b-07d9-4b19-b3d4-23593941eaa8",
   "metadata": {},
   "outputs": [],
   "source": [
    "cubes.append(201)"
   ]
  },
  {
   "cell_type": "code",
   "execution_count": 45,
   "id": "f8da6e3b-0bc6-45cb-b6aa-b2eedda166b9",
   "metadata": {},
   "outputs": [
    {
     "data": {
      "text/plain": [
       "[3, 6, 8, 9, 10, 12, 201]"
      ]
     },
     "execution_count": 45,
     "metadata": {},
     "output_type": "execute_result"
    }
   ],
   "source": [
    "cubes"
   ]
  },
  {
   "cell_type": "code",
   "execution_count": 46,
   "id": "03a447aa-afe3-4401-8cf1-5f4c16ccb25d",
   "metadata": {},
   "outputs": [],
   "source": [
    "cubes.append(216)"
   ]
  },
  {
   "cell_type": "code",
   "execution_count": 47,
   "id": "521bdba2-3a79-4dee-b910-83299cb59ccc",
   "metadata": {},
   "outputs": [
    {
     "data": {
      "text/plain": [
       "['Red', 'Blue', 'Green']"
      ]
     },
     "execution_count": 47,
     "metadata": {},
     "output_type": "execute_result"
    }
   ],
   "source": [
    "rgb = ['Red','Blue','Green']\n",
    "rgb"
   ]
  },
  {
   "cell_type": "code",
   "execution_count": 48,
   "id": "58d35c60-b5b7-43fe-86a8-cfaf9081257f",
   "metadata": {},
   "outputs": [],
   "source": [
    "rgb.append('orange')"
   ]
  },
  {
   "cell_type": "code",
   "execution_count": 49,
   "id": "cc64b947-daaf-41ab-8f5c-c837ca4bf435",
   "metadata": {},
   "outputs": [
    {
     "data": {
      "text/plain": [
       "['Red', 'Blue', 'Green', 'orange']"
      ]
     },
     "execution_count": 49,
     "metadata": {},
     "output_type": "execute_result"
    }
   ],
   "source": [
    "rgb"
   ]
  },
  {
   "cell_type": "code",
   "execution_count": 51,
   "id": "759999d0-3b62-4032-a417-51e99f58e3f8",
   "metadata": {},
   "outputs": [
    {
     "data": {
      "text/plain": [
       "True"
      ]
     },
     "execution_count": 51,
     "metadata": {},
     "output_type": "execute_result"
    }
   ],
   "source": [
    "id(rgb) ==id(rgb)"
   ]
  },
  {
   "cell_type": "code",
   "execution_count": 52,
   "id": "ff8f9cc2-b0b9-4531-a5da-7ca23f243faf",
   "metadata": {},
   "outputs": [],
   "source": [
    "letters = ['a','b','c','d']"
   ]
  },
  {
   "cell_type": "code",
   "execution_count": 53,
   "id": "d04f923a-e7f0-455a-ac88-96b48c697bd4",
   "metadata": {},
   "outputs": [
    {
     "data": {
      "text/plain": [
       "['a', 'b', 'c', 'd']"
      ]
     },
     "execution_count": 53,
     "metadata": {},
     "output_type": "execute_result"
    }
   ],
   "source": [
    "letters"
   ]
  },
  {
   "cell_type": "code",
   "execution_count": 54,
   "id": "415cb226-af22-4a15-8d78-f09b60d8eb3d",
   "metadata": {},
   "outputs": [],
   "source": [
    "letters.append('e')"
   ]
  },
  {
   "cell_type": "code",
   "execution_count": 55,
   "id": "1d52878c-9bb9-4827-9a94-b80d1736487b",
   "metadata": {},
   "outputs": [
    {
     "data": {
      "text/plain": [
       "['a', 'b', 'c', 'd', 'e']"
      ]
     },
     "execution_count": 55,
     "metadata": {},
     "output_type": "execute_result"
    }
   ],
   "source": [
    "letters"
   ]
  },
  {
   "cell_type": "code",
   "execution_count": 56,
   "id": "e312ab2c-aba7-497a-95d4-128b45e7814d",
   "metadata": {},
   "outputs": [],
   "source": [
    "a = [['a','b','c'],['d','e','f'],['g','h','i']]"
   ]
  },
  {
   "cell_type": "code",
   "execution_count": 57,
   "id": "77479908-5aae-4349-84b2-5d3cb4bccc9e",
   "metadata": {},
   "outputs": [
    {
     "data": {
      "text/plain": [
       "[['a', 'b', 'c'], ['d', 'e', 'f'], ['g', 'h', 'i']]"
      ]
     },
     "execution_count": 57,
     "metadata": {},
     "output_type": "execute_result"
    }
   ],
   "source": [
    "a"
   ]
  },
  {
   "cell_type": "code",
   "execution_count": 58,
   "id": "198394f2-8829-4ab8-80ab-3abf5e5ff284",
   "metadata": {},
   "outputs": [
    {
     "data": {
      "text/plain": [
       "['a', 'b', 'c']"
      ]
     },
     "execution_count": 58,
     "metadata": {},
     "output_type": "execute_result"
    }
   ],
   "source": [
    "a[0]"
   ]
  },
  {
   "cell_type": "code",
   "execution_count": 59,
   "id": "f752249f-018e-4c17-956b-98a451f9cb64",
   "metadata": {},
   "outputs": [
    {
     "data": {
      "text/plain": [
       "'b'"
      ]
     },
     "execution_count": 59,
     "metadata": {},
     "output_type": "execute_result"
    }
   ],
   "source": [
    "a[0][1]"
   ]
  },
  {
   "cell_type": "code",
   "execution_count": 60,
   "id": "2b44af05-6cba-41e0-beb6-0c83846cde3a",
   "metadata": {},
   "outputs": [
    {
     "ename": "IndexError",
     "evalue": "list index out of range",
     "output_type": "error",
     "traceback": [
      "\u001b[1;31m---------------------------------------------------------------------------\u001b[0m",
      "\u001b[1;31mIndexError\u001b[0m                                Traceback (most recent call last)",
      "Cell \u001b[1;32mIn[60], line 1\u001b[0m\n\u001b[1;32m----> 1\u001b[0m a[\u001b[38;5;241m2\u001b[39m][\u001b[38;5;241m3\u001b[39m]\n",
      "\u001b[1;31mIndexError\u001b[0m: list index out of range"
     ]
    }
   ],
   "source": [
    "a[2][3]"
   ]
  },
  {
   "cell_type": "code",
   "execution_count": 61,
   "id": "a92f1b59-5e1e-453f-a025-a9d7fe37bd4a",
   "metadata": {},
   "outputs": [
    {
     "data": {
      "text/plain": [
       "'i'"
      ]
     },
     "execution_count": 61,
     "metadata": {},
     "output_type": "execute_result"
    }
   ],
   "source": [
    "a[2][2]"
   ]
  },
  {
   "cell_type": "code",
   "execution_count": 64,
   "id": "f7a2716a-f121-4e75-b7ae-dddd659494e2",
   "metadata": {},
   "outputs": [
    {
     "data": {
      "text/plain": [
       "'h'"
      ]
     },
     "execution_count": 64,
     "metadata": {},
     "output_type": "execute_result"
    }
   ],
   "source": [
    "a[2][1]"
   ]
  },
  {
   "cell_type": "code",
   "execution_count": 65,
   "id": "acf3eb0b-3dca-4b9c-907e-e97ae1be2408",
   "metadata": {},
   "outputs": [
    {
     "data": {
      "text/plain": [
       "'f'"
      ]
     },
     "execution_count": 65,
     "metadata": {},
     "output_type": "execute_result"
    }
   ],
   "source": [
    "a[1][2]"
   ]
  },
  {
   "cell_type": "code",
   "execution_count": 66,
   "id": "55f3f5c1-9261-4531-b304-d12b2e585d2c",
   "metadata": {},
   "outputs": [
    {
     "name": "stdout",
     "output_type": "stream",
     "text": [
      "0\n",
      "1\n",
      "1\n",
      "2\n",
      "3\n",
      "5\n",
      "8\n"
     ]
    }
   ],
   "source": [
    "a,b = 0,1\n",
    "while a < 10:\n",
    "    print(a)\n",
    "    a,b = b,a+b"
   ]
  },
  {
   "cell_type": "code",
   "execution_count": null,
   "id": "39535368-0eb1-4f63-a0c8-adc31896ed59",
   "metadata": {},
   "outputs": [],
   "source": []
  }
 ],
 "metadata": {
  "kernelspec": {
   "display_name": "Python 3 (ipykernel)",
   "language": "python",
   "name": "python3"
  },
  "language_info": {
   "codemirror_mode": {
    "name": "ipython",
    "version": 3
   },
   "file_extension": ".py",
   "mimetype": "text/x-python",
   "name": "python",
   "nbconvert_exporter": "python",
   "pygments_lexer": "ipython3",
   "version": "3.12.7"
  }
 },
 "nbformat": 4,
 "nbformat_minor": 5
}
